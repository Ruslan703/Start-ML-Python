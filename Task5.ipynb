{
 "cells": [
  {
   "cell_type": "code",
   "execution_count": null,
   "metadata": {},
   "outputs": [],
   "source": [
    "import pandas as pd\n",
    "import numpy as np\n",
    "import matplotlib.pyplot as plt\n",
    "\n",
    "%matplotlib inline"
   ]
  },
  {
   "cell_type": "code",
   "execution_count": null,
   "metadata": {},
   "outputs": [],
   "source": [
    "df = pd.read_csv(filepath_or_buffer=\"data.csv\", sep=',')"
   ]
  },
  {
   "cell_type": "code",
   "execution_count": null,
   "metadata": {},
   "outputs": [],
   "source": [
    "df.head()"
   ]
  },
  {
   "cell_type": "code",
   "execution_count": null,
   "metadata": {},
   "outputs": [],
   "source": [
    "# task_1\n",
    "list(df.loc[0:2, 'dateAdded'])"
   ]
  },
  {
   "cell_type": "code",
   "execution_count": null,
   "metadata": {},
   "outputs": [],
   "source": [
    "# task_2\n",
    "df[['city', 'latitude']].dtypes"
   ]
  },
  {
   "cell_type": "code",
   "execution_count": null,
   "metadata": {},
   "outputs": [],
   "source": [
    "# task_3\n",
    "df.describe()"
   ]
  },
  {
   "cell_type": "code",
   "execution_count": null,
   "metadata": {},
   "outputs": [],
   "source": [
    "# 6\n",
    "df.dropna()"
   ]
  },
  {
   "cell_type": "code",
   "execution_count": null,
   "metadata": {},
   "outputs": [],
   "source": [
    "# 7\n",
    "df[df['city'] == 'California'].index"
   ]
  },
  {
   "cell_type": "code",
   "execution_count": null,
   "metadata": {},
   "outputs": [],
   "source": [
    "# 8\n",
    "df[(df['city'] == 'California') & (df['name'] == 'Taco Bell')].index"
   ]
  },
  {
   "cell_type": "code",
   "execution_count": null,
   "metadata": {},
   "outputs": [],
   "source": [
    "# 9\n",
    "result = df[\n",
    "    (df['name'].isin(['Taco Bell'])) |\n",
    "    (df['city'].isin(['New York'])) &\n",
    "    (~df['menus.name'].str.contains('Volcano Taco')) &\n",
    "    (~df['menus.name'].str.contains('Fresco Soft Taco'))\n",
    "]\n",
    "\n",
    "result = df.loc[\n",
    "    (\n",
    "        (df['name'] == 'Taco Bell') |\n",
    "        (df['city'] == 'New York')\n",
    "    ) &\n",
    "    (\n",
    "        ~df['menus.name'].str.contains('Volcano Taco') &\n",
    "        ~df['menus.name'].str.contains('Fresco Soft Taco')\n",
    "    )\n",
    "]\n",
    "\n",
    "import time\n",
    "\n",
    "start_time = time.time()\n",
    "result = df[\n",
    "    ((df['name'] == 'Taco Bell') | (df['city'] == 'New York')) &\n",
    "    (~df['menus.name'].str.contains('Volcano Taco')) &\n",
    "    (~df['menus.name'].str.contains('Fresco Soft Taco'))\n",
    "]\n",
    "end_time = time.time()\n",
    "\n",
    "print(f\"Время выполнения: {end_time - start_time} секунд\")"
   ]
  },
  {
   "cell_type": "code",
   "execution_count": null,
   "metadata": {},
   "outputs": [],
   "source": [
    "# 10\n",
    "df[~df['menus.currency'].isna()]"
   ]
  },
  {
   "cell_type": "code",
   "execution_count": null,
   "metadata": {},
   "outputs": [],
   "source": [
    "# 11\n",
    "df[['categories']] # DataFrame\n",
    "df['categories'] # Series"
   ]
  },
  {
   "cell_type": "code",
   "execution_count": null,
   "metadata": {},
   "outputs": [],
   "source": [
    "# 12\n",
    "df['city'].value_counts().sort_values(ascending=False).head(5).index"
   ]
  },
  {
   "cell_type": "code",
   "execution_count": null,
   "metadata": {},
   "outputs": [],
   "source": [
    "# 13\n",
    "result = (\n",
    "    df[df['name'] == 'Taco Bell']  # Фильтруем DataFrame\n",
    "    .groupby('city', as_index=False)  # Группируем по городу без установки индекса\n",
    "    .size()  # Считаем количество записей в каждой группе\n",
    "    .sort_values(by='size', ascending=False)  # Сортируем по количеству в порядке убывания\n",
    "    .head(5)\n",
    "    .set_index('city')\n",
    ")\n",
    "result\n",
    "\n",
    "# df[df['name'] == 'Taco Bell']['city'].value_counts().sort_values(ascending=False).head(5)"
   ]
  },
  {
   "cell_type": "code",
   "execution_count": null,
   "metadata": {},
   "outputs": [],
   "source": [
    "# 14\n",
    "df.dtypes"
   ]
  },
  {
   "cell_type": "code",
   "execution_count": null,
   "metadata": {},
   "outputs": [],
   "source": [
    "# 15\n",
    "df_dt = df.copy()\n",
    "df_dt['dateAdded'] = pd.to_datetime(df['dateAdded'])\n",
    "df_dt.head()\n",
    "\n",
    "df_dt[df_dt['dateAdded'].dt.month == 10].index"
   ]
  },
  {
   "cell_type": "code",
   "execution_count": null,
   "metadata": {},
   "outputs": [],
   "source": [
    "# 16\n",
    "result = (\n",
    "    df.groupby(pd.to_datetime(df['dateAdded']).dt.month)\n",
    "    .aggregate({'id': 'nunique'})\n",
    ")\n",
    "\n",
    "result"
   ]
  },
  {
   "cell_type": "code",
   "execution_count": null,
   "metadata": {},
   "outputs": [],
   "source": [
    "# 16\n",
    "df['dateAdded'] = pd.to_datetime(df['dateAdded'])\n",
    "df['dateUpdated'] = pd.to_datetime(df['dateUpdated'])"
   ]
  },
  {
   "cell_type": "code",
   "execution_count": null,
   "metadata": {},
   "outputs": [],
   "source": [
    "df['update_delta'] = (df['dateUpdated'] - df['dateAdded']).dt.days\n",
    "df.head()"
   ]
  },
  {
   "cell_type": "code",
   "execution_count": null,
   "metadata": {},
   "outputs": [],
   "source": [
    "result = df.groupby('city', as_index=False).aggregate({'update_delta': 'mean', 'latitude': 'max'})"
   ]
  },
  {
   "cell_type": "code",
   "execution_count": null,
   "metadata": {},
   "outputs": [],
   "source": [
    "# 1 - Метод query позволяет писать условия фильтрации в более читаемом виде.\n",
    "update_delta = result.query(\"city == 'Zephyrhills'\")['update_delta'].iloc[0]\n",
    "# 2 - Метод loc позволяет индексировать DataFrame по меткам строк и столбцов.\n",
    "update_delta = result.loc[result['city'] == 'Zephyrhills', 'update_delta'].iloc[0]\n",
    "# 3 - Метод at позволяет быстро получить значение по метке строки и столбца.\n",
    "update_delta = result.at[result[result['city'] == 'Zephyrhills'].index[0], 'update_delta']\n",
    "# 4 - Если вам нужно найти значение для города с максимальным значением update_delta, можно использовать idxmax.\n",
    "max_index = result['update_delta'].idxmax()\n",
    "update_delta = result.at[max_index, 'update_delta']\n",
    "# 5 - Если у вас сложные условия, можно использовать apply для создания пользовательской функции.\n",
    "def find_update_delta(row):\n",
    "    if row['city'] == 'Zephyrhills':\n",
    "        return row['update_delta']\n",
    "    return None\n",
    "\n",
    "update_delta = result.apply(find_update_delta, axis=1).dropna().iloc[0]"
   ]
  },
  {
   "cell_type": "code",
   "execution_count": null,
   "metadata": {},
   "outputs": [],
   "source": [
    "# 17\n",
    "df[df['categories'].str.contains('Pizza')]"
   ]
  },
  {
   "cell_type": "code",
   "execution_count": null,
   "metadata": {},
   "outputs": [],
   "source": [
    "# 18\n",
    "(round(df['update_delta'].mean(), 2), round(df['update_delta'].median(), 2))"
   ]
  },
  {
   "cell_type": "code",
   "execution_count": null,
   "metadata": {},
   "outputs": [],
   "source": [
    "# 19\n",
    "# Применяет лямбда-функцию к каждому элементу столбца. Лямбда-функция разбивает строку по запятым и возвращает количество элементов в списке.\n",
    "# def find_length(row):\n",
    "#     return len(row['categories'].split(','))\n",
    "# df['categories'].apply(lambda x: len(x.split(',')))\n",
    "# df['number_of_categories'] = df.apply(lambda x: len(x['categories'].split(',')), axis=1)"
   ]
  },
  {
   "cell_type": "code",
   "execution_count": null,
   "metadata": {},
   "outputs": [],
   "source": [
    "result = df[df.apply(lambda x: len(x['categories'].split(',')), axis=1) > 20]"
   ]
  },
  {
   "cell_type": "code",
   "execution_count": null,
   "metadata": {},
   "outputs": [],
   "source": [
    "result = result.groupby('province', as_index=True).aggregate({'longitude': 'min'})"
   ]
  },
  {
   "cell_type": "code",
   "execution_count": null,
   "metadata": {},
   "outputs": [],
   "source": [
    "result['longitude'] = result['longitude'].apply(lambda x: round(x, 3))"
   ]
  },
  {
   "cell_type": "code",
   "execution_count": null,
   "metadata": {},
   "outputs": [],
   "source": [
    "result.to_csv('result.csv', sep=';')"
   ]
  }
 ],
 "metadata": {
  "kernelspec": {
   "display_name": "base",
   "language": "python",
   "name": "python3"
  },
  "language_info": {
   "codemirror_mode": {
    "name": "ipython",
    "version": 3
   },
   "file_extension": ".py",
   "mimetype": "text/x-python",
   "name": "python",
   "nbconvert_exporter": "python",
   "pygments_lexer": "ipython3",
   "version": "3.10.9"
  }
 },
 "nbformat": 4,
 "nbformat_minor": 2
}
